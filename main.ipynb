{
 "cells": [
  {
   "cell_type": "code",
   "execution_count": 2,
   "metadata": {},
   "outputs": [],
   "source": [
    "!pip install datasets -q\n",
    "!pip install transformers -q -U\n",
    "!pip install wandb -q -U"
   ]
  },
  {
   "cell_type": "code",
   "execution_count": 3,
   "metadata": {},
   "outputs": [],
   "source": [
    "import os\n",
    "import pandas as pd\n",
    "import os\n",
    "from collections import defaultdict\n",
    "import datasets\n",
    "import sys, importlib\n",
    "import random\n",
    "import shutil\n",
    "pd.set_option('display.max_colwidth', None)"
   ]
  },
  {
   "cell_type": "code",
   "execution_count": 4,
   "metadata": {},
   "outputs": [],
   "source": [
    "DATA_HOME = './misc-data'\n",
    "SECRET_HOME = '/Users/yifu/Documents/Stanford/Academics/Papers/TraumaICD-Paper/injury-icd-dataset/'  # THE DIRECTORY WHERE YOUR PATIENT DATA IS STORED\n",
    "OHDSI_VOCAB_HOME = os.path.join(DATA_HOME, 'ohdsi-vocab')\n",
    "SECRET_PATH =  os.path.join(DATA_HOME, 'injury-icd-dataset')\n",
    "DS_HOME_PRETRAIN = os.path.join(DATA_HOME, 'pretrain', 'injury-icd-dataset')\n",
    "PLOT_HOME = os.path.join(DATA_HOME, \"publishing\", \"figures\")\n",
    "RAW_DATA_PATH = os.path.join(SECRET_HOME,\"injury_icd_dataset.csv\")  # YOUR OWN PATIENT DATA CSV FILE HERE. Example Format: "
   ]
  },
  {
   "cell_type": "code",
   "execution_count": 5,
   "metadata": {},
   "outputs": [],
   "source": [
    "icd10_concepts = pd.read_csv(os.path.join(OHDSI_VOCAB_HOME, \"injury_codes_ICD10CM.csv\"), low_memory=False)"
   ]
  },
  {
   "cell_type": "code",
   "execution_count": 6,
   "metadata": {},
   "outputs": [],
   "source": [
    "injuries = icd10_concepts[icd10_concepts[\"concept_code\"].apply(lambda x: len(x)<=5 and x.startswith(\"S\"))]\n",
    "injuries.to_csv(os.path.join(OHDSI_VOCAB_HOME, 'injury_ICD10'))\n",
    "\n",
    "raw_data = pd.read_csv(RAW_DATA_PATH, on_bad_lines='skip')\n",
    "cases = raw_data[(raw_data.tertiary_impression != '') | (raw_data.tertiary_exam != '')][['patient_id', 'tertiary_exam', 'tertiary_imaging_report', 'tertiary_impression']].copy()\n",
    "cases['total_text_len'] = cases.apply(lambda row: len(str(row.tertiary_exam)) + len(str(row.tertiary_imaging_report)) + len(str(row.tertiary_impression)), axis=1)\n",
    "\n",
    "# \n",
    "injuries = icd10_concepts[icd10_concepts[\"concept_code\"].apply(lambda x: len(x)<=5 and x.startswith(\"S\"))]\n",
    "injuries.to_csv(os.path.join(DATA_HOME, 'injury_ICD10'))"
   ]
  },
  {
   "cell_type": "code",
   "execution_count": null,
   "metadata": {},
   "outputs": [],
   "source": []
  }
 ],
 "metadata": {
  "kernelspec": {
   "display_name": "Python 3",
   "language": "python",
   "name": "python3"
  },
  "language_info": {
   "codemirror_mode": {
    "name": "ipython",
    "version": 3
   },
   "file_extension": ".py",
   "mimetype": "text/x-python",
   "name": "python",
   "nbconvert_exporter": "python",
   "pygments_lexer": "ipython3",
   "version": "3.9.12"
  },
  "orig_nbformat": 4
 },
 "nbformat": 4,
 "nbformat_minor": 2
}
